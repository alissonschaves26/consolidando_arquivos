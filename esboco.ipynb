{
 "cells": [
  {
   "cell_type": "markdown",
   "metadata": {},
   "source": [
    "### Dúvidas:\n",
    "\n",
    "- Total de colunas: 11\n",
    "    - só muda se houver a solicitação de inclusão de mais campos\n",
    "\n",
    "- Nome da aba é sempre \"dados\"?\n",
    "    - Sim!\n",
    "\n",
    "- Qual é a origem dos relatórios?\n",
    "    - Resp: eles são extraídos do sistema de venda.\n",
    "\n",
    "- Data é a data de realização da venda?\n",
    "    - Sim!\n",
    "    \n",
    "- Quem são os compradores?\n",
    "    - O nome do arquivo tem algo a ver com isso?\n",
    "        - Nome do arquivo é configurado da seguinte forma:\n",
    "\n",
    "        `nome do segmento - país onde foi realizada a venda`\n",
    "\n",
    "\n",
    "\n",
    "Passo a passo:\n",
    "\n",
    "- Criar uma planilha em branco\n",
    "- Replicar as colunas que existem nos relatórios (11 colunas)\n",
    "- Inserir duas colunas novas: Segmento e País\n",
    "- Percorrer todos os arquivos, copiar os dados, colar na planilha consolidado e preencher\n",
    "as informações de segmento e país\n",
    "\n",
    "\n"
   ]
  },
  {
   "cell_type": "code",
   "execution_count": 16,
   "metadata": {},
   "outputs": [],
   "source": [
    "import pandas as pd\n",
    "import os\n",
    "import datetime"
   ]
  },
  {
   "cell_type": "code",
   "execution_count": 17,
   "metadata": {},
   "outputs": [],
   "source": [
    "data = datetime.datetime.now()\n",
    "colunas = [\n",
    "    'Segmento',\n",
    "    'País',\n",
    "    'Produto',\n",
    "    'Qtde de Unidades Vendidas',\n",
    "    'Preço Unitário',\n",
    "    'Valor Total',\n",
    "    'Desconto',\n",
    "    'Valor Total c/ Desconto',\n",
    "    'Custo Total',\n",
    "    'Lucro',\n",
    "    'Data',\n",
    "    'Mês',\n",
    "    'Ano'\n",
    "]"
   ]
  },
  {
   "cell_type": "code",
   "execution_count": null,
   "metadata": {},
   "outputs": [],
   "source": []
  },
  {
   "cell_type": "code",
   "execution_count": 18,
   "metadata": {},
   "outputs": [],
   "source": [
    "df = pd.DataFrame(columns=colunas)"
   ]
  },
  {
   "cell_type": "code",
   "execution_count": 19,
   "metadata": {},
   "outputs": [],
   "source": [
    "consolidado = pd.DataFrame(columns=colunas)"
   ]
  },
  {
   "cell_type": "code",
   "execution_count": 20,
   "metadata": {},
   "outputs": [],
   "source": [
    "arquivos = os.listdir(r\"E:\\downloads\\material_projeto01 (1)\\planilhas\")"
   ]
  },
  {
   "cell_type": "code",
   "execution_count": 21,
   "metadata": {},
   "outputs": [],
   "source": [
    "for excel in arquivos:\n",
    "    \n",
    "    if excel.endswith(\".xlsx\"):\n",
    "        dados_arquivos = excel.split('-')\n",
    "        segmento = dados_arquivos[0]\n",
    "        pais = dados_arquivos[1].replace(\".xlsx\", \"\")\n",
    "        \n",
    "        try:        \n",
    "            df = pd.read_excel(f\"planilhas\\\\{excel}\")\n",
    "            df.insert(0, 'Segmento', segmento)\n",
    "            df.insert(1, 'País', pais)\n",
    "            consolidado = pd.concat([consolidado, df])\n",
    "        except:\n",
    "            with open(\"log_erro.txt\", 'w') as arquivo:\n",
    "                arquivo.write(f\"Erro ao tentar consolidar o arquivo {excel}\")\n",
    "    else:\n",
    "        with open(\"log_erro.txt\", 'w') as arquivo:\n",
    "            arquivo.write(f\"O arquivo {excel} não é um arquivo excel valido\")\n",
    "\n",
    "    "
   ]
  },
  {
   "cell_type": "markdown",
   "metadata": {},
   "source": []
  },
  {
   "cell_type": "code",
   "execution_count": 25,
   "metadata": {},
   "outputs": [],
   "source": [
    "consolidado.to_excel(f\"Report-consolidado-{data.strftime('%d-%m-%Y')}.xlsx\", index=False, sheet_name='Report Consolidado')"
   ]
  },
  {
   "cell_type": "markdown",
   "metadata": {},
   "source": [
    "df"
   ]
  },
  {
   "cell_type": "code",
   "execution_count": null,
   "metadata": {},
   "outputs": [],
   "source": [
    "consolidado.to_excel(\"Report.xlsx\", index=False)"
   ]
  },
  {
   "cell_type": "code",
   "execution_count": null,
   "metadata": {},
   "outputs": [],
   "source": []
  },
  {
   "cell_type": "code",
   "execution_count": null,
   "metadata": {},
   "outputs": [],
   "source": []
  },
  {
   "cell_type": "code",
   "execution_count": null,
   "metadata": {},
   "outputs": [],
   "source": []
  },
  {
   "cell_type": "code",
   "execution_count": null,
   "metadata": {},
   "outputs": [],
   "source": []
  },
  {
   "cell_type": "code",
   "execution_count": null,
   "metadata": {},
   "outputs": [],
   "source": []
  },
  {
   "cell_type": "code",
   "execution_count": null,
   "metadata": {},
   "outputs": [],
   "source": []
  },
  {
   "cell_type": "code",
   "execution_count": null,
   "metadata": {},
   "outputs": [],
   "source": []
  }
 ],
 "metadata": {
  "interpreter": {
   "hash": "6467cde764c137f84d8db938254cde60243c46e0fe8734c86fbe71b9c1c73122"
  },
  "kernelspec": {
   "display_name": "Python 3.9.7 ('base')",
   "language": "python",
   "name": "python3"
  },
  "language_info": {
   "codemirror_mode": {
    "name": "ipython",
    "version": 3
   },
   "file_extension": ".py",
   "mimetype": "text/x-python",
   "name": "python",
   "nbconvert_exporter": "python",
   "pygments_lexer": "ipython3",
   "version": "3.11.3"
  },
  "orig_nbformat": 4
 },
 "nbformat": 4,
 "nbformat_minor": 2
}
